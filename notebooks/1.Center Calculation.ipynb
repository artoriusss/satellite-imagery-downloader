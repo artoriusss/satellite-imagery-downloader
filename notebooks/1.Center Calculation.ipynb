{
 "cells": [
  {
   "cell_type": "code",
   "execution_count": 265,
   "metadata": {},
   "outputs": [],
   "source": [
    "import math\n",
    "import numpy as np"
   ]
  },
  {
   "cell_type": "code",
   "execution_count": 266,
   "metadata": {},
   "outputs": [],
   "source": [
    "def project_with_scale(lat, lon, scale):\n",
    "    siny = np.sin(lat * np.pi / 180)\n",
    "    siny = min(max(siny, -0.9999), 0.9999)\n",
    "    x = scale * (0.5 + lon / 360)\n",
    "    y = scale * (0.5 - np.log((1 + siny) / (1 - siny)) / (4 * np.pi))\n",
    "    return x, y\n",
    "\n",
    "def image_size(lat1: float, lon1: float, lat2: float,\n",
    "    lon2: float, zoom: int, tile_size: int = 256):\n",
    "    \"\"\" Calculates the size of an image without downloading it. Returns the width and height in pixels as a tuple. \"\"\"\n",
    "\n",
    "    scale = 1 << zoom\n",
    "    tl_proj_x, tl_proj_y = project_with_scale(lat1, lon1, scale)\n",
    "    br_proj_x, br_proj_y = project_with_scale(lat2, lon2, scale)\n",
    "\n",
    "    tl_pixel_x = int(tl_proj_x * tile_size)\n",
    "    tl_pixel_y = int(tl_proj_y * tile_size)\n",
    "    br_pixel_x = int(br_proj_x * tile_size)\n",
    "    br_pixel_y = int(br_proj_y * tile_size)\n",
    "\n",
    "    return abs(tl_pixel_x - br_pixel_x), br_pixel_y - tl_pixel_y"
   ]
  },
  {
   "cell_type": "code",
   "execution_count": 267,
   "metadata": {},
   "outputs": [],
   "source": [
    "Z = 19\n",
    "R = (256 * 2**Z) / 360  "
   ]
  },
  {
   "cell_type": "code",
   "execution_count": 268,
   "metadata": {},
   "outputs": [],
   "source": [
    "def calculate_image_coords(lat, lon):\n",
    "    delta_lon, delta_lat = 4000 / R, 3000 / R\n",
    "\n",
    "    top_left =  lat + (delta_lat / 2), lon - (delta_lon / 2)\n",
    "    bottom_right = lat - (delta_lat / 2), lon + (delta_lon / 2)\n",
    "\n",
    "    return top_left, bottom_right"
   ]
  },
  {
   "cell_type": "code",
   "execution_count": null,
   "metadata": {},
   "outputs": [],
   "source": [
    "def center(lat1, lon1, lat2, lon2):\n",
    "    return (lat1 + lat2) / 2, (lon1 + lon2) / 2\n",
    "\n",
    "def distance(origin, destination):\n",
    "    lat1, lon1 = origin\n",
    "    lat2, lon2 = destination\n",
    "    radius = 6371 \n",
    "\n",
    "    dlat = math.radians(lat2 - lat1)\n",
    "    dlon = math.radians(lon2 - lon1)\n",
    "    a = (math.sin(dlat / 2) * math.sin(dlat / 2) +\n",
    "         math.cos(math.radians(lat1)) * math.cos(math.radians(lat2)) *\n",
    "         math.sin(dlon / 2) * math.sin(dlon / 2))\n",
    "    c = 2 * math.atan2(math.sqrt(a), math.sqrt(1 - a))\n",
    "    d = radius * c\n",
    "\n",
    "    return d"
   ]
  },
  {
   "cell_type": "code",
   "execution_count": 270,
   "metadata": {},
   "outputs": [],
   "source": [
    "def adjust_coords(lat1, lon1, lat2, lon2, zoom, desired_width=4000, desired_height=3000):\n",
    "    init_center = center(lat1, lon1, lat2, lon2)\n",
    "    # print(f\"Started with: ({lat1}, {lon1}); ({lat2}, {lon2}).\")\n",
    "    tolerance = 0.1   \n",
    "    adjustment_step = 0.001  \n",
    "    cnt = 0\n",
    "    max_iterations = 10**5\n",
    "\n",
    "    while cnt < max_iterations:\n",
    "        width, height = image_size(lat1, lon1, lat2, lon2, zoom)\n",
    "\n",
    "        if abs(width - desired_width) < tolerance and abs(height - desired_height) < tolerance:\n",
    "            print(\"Target dimensions achieved!\")\n",
    "            break\n",
    "\n",
    "        if height < desired_height:\n",
    "            lat1 = min(lat1 + adjustment_step, 90)  \n",
    "        else:\n",
    "            lat1 = max(lat1 - adjustment_step, -90)\n",
    "\n",
    "        if width < desired_width:\n",
    "            lon2 = min(lon2 + adjustment_step, 180)  \n",
    "        else:\n",
    "            lon2 = max(lon2 - adjustment_step, -180)\n",
    "\n",
    "        cnt += 1\n",
    "        adjustment_step = max(0.00001, adjustment_step * 0.99)\n",
    "\n",
    "        if width > 10 * desired_width or height > 10 * desired_height:\n",
    "            print(\"Dimension explosion detected. Aborting adjustments.\")\n",
    "            break\n",
    "\n",
    "    if cnt >= max_iterations:\n",
    "        print(\"Max iterations reached. Adjustments may be incomplete.\")\n",
    "    adjusted_center = center(lat1, lon1, lat2, lon2)\n",
    "    delta = distance(init_center, adjusted_center)\n",
    "    print(f\"Ended with: ({lat1}, {lon1}); ({lat2}, {lon2}).\")\n",
    "    print(f\"Center distorted by {delta:.2f} km.\")\n",
    "    return lat1, lon1, lat2, lon2"
   ]
  },
  {
   "cell_type": "code",
   "execution_count": 271,
   "metadata": {},
   "outputs": [],
   "source": [
    "init_center_lat, init_center_lon = -33.840902, -61.560890\n",
    "init_center = init_center_lat, init_center_lon\n",
    "(lat1, lon1), (lat2, lon2) = calculate_image_coords(init_center_lat, init_center_lon)"
   ]
  },
  {
   "cell_type": "code",
   "execution_count": 272,
   "metadata": {},
   "outputs": [
    {
     "name": "stdout",
     "output_type": "stream",
     "text": [
      "Max iterations reached. Adjustments may be incomplete.\n",
      "Ended with: (-33.83823214759757, -61.566254418029786); (-33.84492531352234, -61.55552752761792).\n",
      "Center distorted by 0.08 km.\n",
      "Target dimensions achieved!\n",
      "Ended with: (-33.83824214349833, -61.566254418029786); (-33.84492531352234, -61.5555249028938).\n",
      "Center distorted by 0.00 km.\n"
     ]
    }
   ],
   "source": [
    "lat1, lon1, lat2, lon2 = adjust_coords(lat1, lon1, lat2, lon2, zoom=19)\n",
    "lat1, lon1, lat2, lon2 = adjust_coords(lat1, lon1, lat2, lon2, zoom=19)"
   ]
  },
  {
   "cell_type": "code",
   "execution_count": 273,
   "metadata": {},
   "outputs": [
    {
     "name": "stdout",
     "output_type": "stream",
     "text": [
      "Calculated dimensions: 4000x3000\n"
     ]
    }
   ],
   "source": [
    "desired_width, desired_height = 4000, 3000\n",
    "\n",
    "width, height = image_size(lat1, lon1, lat2, lon2, Z)\n",
    "print(f\"Calculated dimensions: {width}x{height}\")"
   ]
  }
 ],
 "metadata": {
  "kernelspec": {
   "display_name": ".venv",
   "language": "python",
   "name": "python3"
  },
  "language_info": {
   "codemirror_mode": {
    "name": "ipython",
    "version": 3
   },
   "file_extension": ".py",
   "mimetype": "text/x-python",
   "name": "python",
   "nbconvert_exporter": "python",
   "pygments_lexer": "ipython3",
   "version": "3.12.7"
  }
 },
 "nbformat": 4,
 "nbformat_minor": 2
}
